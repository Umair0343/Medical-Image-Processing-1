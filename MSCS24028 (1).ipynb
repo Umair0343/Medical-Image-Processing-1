{
  "nbformat": 4,
  "nbformat_minor": 0,
  "metadata": {
    "colab": {
      "provenance": []
    },
    "kernelspec": {
      "name": "python3",
      "display_name": "Python 3"
    },
    "language_info": {
      "name": "python"
    }
  },
  "cells": [
    {
      "cell_type": "code",
      "source": [
        "import os\n",
        "\n",
        "img_folder = '/content/drive/MyDrive/MSCS24028'\n",
        "images = os.listdir(img_folder)\n",
        "print(images)"
      ],
      "metadata": {
        "colab": {
          "base_uri": "https://localhost:8080/"
        },
        "id": "vOa7wX7O9mv1",
        "outputId": "0e44cbea-6fe9-4b04-9f15-14351357b1d8"
      },
      "execution_count": null,
      "outputs": [
        {
          "output_type": "stream",
          "name": "stdout",
          "text": [
            "['6.jpg', '4.jpg', '1.jpg', '9.jpg', '5.jpg', '10.jpg', '7.jpg', '2.jpg', '8.jpg', '3.jpg', '.DS_Store']\n"
          ]
        }
      ]
    },
    {
      "cell_type": "markdown",
      "source": [
        "# Checking if the images are loaded properly:\n",
        "Also to compare the original images with the transformed images"
      ],
      "metadata": {
        "id": "F6MIirX8_eQL"
      }
    },
    {
      "cell_type": "code",
      "source": [
        "import cv2\n",
        "from google.colab.patches import cv2_imshow\n",
        "import matplotlib.pyplot as plt\n",
        "\n",
        "for image_name in images:\n",
        "  image_path = os.path.join(img_folder, image_name)\n",
        "  img = cv2.imread(image_path)\n",
        "  if img is not None:\n",
        "    cv2_imshow(img)\n",
        "  else:\n",
        "    print(f\"Failed to load image: {image_path}\")"
      ],
      "metadata": {
        "colab": {
          "base_uri": "https://localhost:8080/",
          "height": 1000
        },
        "id": "neMVU9mJ-g5b",
        "outputId": "c8ed6d04-f692-41da-e820-009af81e05c3"
      },
      "execution_count": null,
      "outputs": []
    },
    {
      "cell_type": "markdown",
      "source": [
        "# Histogram Equalization\n"
      ],
      "metadata": {
        "id": "UpGM8Lhv_0Ad"
      }
    },
    {
      "cell_type": "code",
      "source": [
        "import cv2\n",
        "from google.colab.patches import cv2_imshow\n",
        "import matplotlib.pyplot as plt\n",
        "\n",
        "for image_name in images:\n",
        "    image_path = os.path.join(img_folder, image_name)\n",
        "    img = cv2.imread(image_path, 0)  # Load image in grayscale for histgram equalization\n",
        "    if img is not None:\n",
        "        # Apply Histogram Equalization\n",
        "        equ = cv2.equalizeHist(img)\n",
        "\n",
        "        # Display the eqaulized image\n",
        "        cv2_imshow(equ)\n",
        "    else:\n",
        "        print(f\"Failed to load image: {image_path}\")"
      ],
      "metadata": {
        "colab": {
          "base_uri": "https://localhost:8080/",
          "height": 1000
        },
        "id": "aQZGJfmB-yJJ",
        "outputId": "b8cd43c8-c121-4fa3-c8cd-ce52571289bc"
      },
      "execution_count": null,
      "outputs": []
    },
    {
      "cell_type": "markdown",
      "source": [],
      "metadata": {
        "id": "yg3q5LbXF2me"
      }
    },
    {
      "cell_type": "markdown",
      "source": [
        "# Color enhancement (However it doesnot make the images better)"
      ],
      "metadata": {
        "id": "rw4K84GNGMNk"
      }
    },
    {
      "cell_type": "code",
      "source": [
        "for image_name in images:\n",
        "    image_path = os.path.join(img_folder, image_name)\n",
        "    img = cv2.imread(image_path)  # Load the color image\n",
        "    if img is not None:\n",
        "        # Convert the image from BGR to HSV color spce\n",
        "        hsv_image = cv2.cvtColor(img, cv2.COLOR_BGR2HSV)\n",
        "\n",
        "        # Increase saturation and value (brightness)\n",
        "        hsv_image[:, :, 1] = cv2.add(hsv_image[:, :, 1], 5)  # Enhnce saturation\n",
        "        hsv_image[:, :, 2] = cv2.add(hsv_image[:, :, 2], 5)  # Enhance brightness\n",
        "\n",
        "        # Convert back to BGR color space after enhancing\n",
        "        enhanced_img = cv2.cvtColor(hsv_image, cv2.COLOR_HSV2BGR)\n",
        "\n",
        "        # Display the enhanced color image\n",
        "        cv2_imshow(enhanced_img)\n",
        "    else:\n",
        "        print(f\"Failed to load image: {image_path}\")"
      ],
      "metadata": {
        "colab": {
          "base_uri": "https://localhost:8080/",
          "height": 1000
        },
        "id": "trrPvslDCNIf",
        "outputId": "41193071-a883-48e1-f61c-190a73572b68"
      },
      "execution_count": null,
      "outputs": []
    },
    {
      "cell_type": "markdown",
      "source": [
        "# Gamma Correction with gamma value 1.0"
      ],
      "metadata": {
        "id": "8w8lXIdkG45m"
      }
    },
    {
      "cell_type": "code",
      "source": [
        "import cv2\n",
        "from google.colab.patches import cv2_imshow\n",
        "import numpy as np\n",
        "import os\n",
        "\n",
        "def adjust_gamma(image, gamma=1.0):\n",
        "    # build a lookup table mapping pixel values [0, 255] to their adjusted gamma values\n",
        "    inv_gamma = 1.0 / gamma\n",
        "    table = np.array([((i / 255.0) ** inv_gamma) * 255 for i in np.arange(256)]).astype(\"uint8\")\n",
        "\n",
        "    # apply gamma correction using the lookup table\n",
        "    return cv2.LUT(image, table)\n",
        "\n",
        "# assuming 'images' contains image names and 'img_folder' is the path to the folder with images\n",
        "for image_name in images:\n",
        "    image_path = os.path.join(img_folder, image_name)\n",
        "    img = cv2.imread(image_path)  # Load the color image\n",
        "    if img is not None:\n",
        "        # Apply Gamma Correction with a gamma value of 1.2 for slight brightening\n",
        "        gamma_corrected_img = adjust_gamma(img, gamma=1.2)\n",
        "\n",
        "        # Display the gamma corrected image\n",
        "        cv2_imshow(gamma_corrected_img)\n",
        "    else:\n",
        "        print(f\"Failed to load image: {image_path}\")\n"
      ],
      "metadata": {
        "colab": {
          "base_uri": "https://localhost:8080/",
          "height": 1000
        },
        "id": "V3OCrK05DHWi",
        "outputId": "63d2a59f-3099-40d2-e732-53186e96dd62"
      },
      "execution_count": null,
      "outputs": []
    },
    {
      "cell_type": "markdown",
      "source": [
        "# Linear Contrast Adjustment"
      ],
      "metadata": {
        "id": "0vRFo-RMK9hx"
      }
    },
    {
      "cell_type": "code",
      "source": [
        "def linear_contrast_adjustment(image):\n",
        "    # Find the minimum and maximum pixel values in the image\n",
        "    min_val = np.min(image)\n",
        "    max_val = np.max(image)\n",
        "\n",
        "    # Apply the linear contrast adjustment formula\n",
        "    adjusted_image = ((image - min_val) / (max_val - min_val)) * 255\n",
        "    adjusted_image = np.clip(adjusted_image, 0, 255).astype(np.uint8)  # Ensure pixel values stay in [0, 255]\n",
        "\n",
        "    return adjusted_image\n",
        "\n",
        "# assuming 'images' contains image names and 'img_folder' is the path to the folder with images\n",
        "for image_name in images:\n",
        "    image_path = os.path.join(img_folder, image_name)\n",
        "    img = cv2.imread(image_path)  # Load the color image\n",
        "    if img is not None:\n",
        "        # Apply Linear Contrast Adjustment\n",
        "        adjusted_img = linear_contrast_adjustment(img)\n",
        "\n",
        "        # Display the contrast adjusted image\n",
        "        cv2_imshow(adjusted_img)\n",
        "    else:\n",
        "        print(f\"Failed to load image: {image_path}\")"
      ],
      "metadata": {
        "colab": {
          "base_uri": "https://localhost:8080/",
          "height": 1000
        },
        "id": "13yuyN2kGG6z",
        "outputId": "3c019995-398d-4220-87da-21834790215c"
      },
      "execution_count": null,
      "outputs": []
    },
    {
      "cell_type": "markdown",
      "source": [
        "# Noise reduction using Gaussian filter and Sobel Edge Detection"
      ],
      "metadata": {
        "id": "zJFBYJNFQ_Hz"
      }
    },
    {
      "cell_type": "code",
      "source": [
        "# Function to remove noise using Gaussian filter\n",
        "def gaussian_noise_removal(image, kernel_size=(5, 5), sigma=3):\n",
        "    denoised_image = cv2.GaussianBlur(image, kernel_size, sigma)\n",
        "    return denoised_image\n",
        "\n",
        "# Sobel edge detection fintion\n",
        "def sobel_edge_detection(image):\n",
        "    # Convert image to grayscale as Sobel operator works on single channel images\n",
        "    gray_image = cv2.cvtColor(image, cv2.COLOR_BGR2GRAY)\n",
        "\n",
        "    # Apply Sobel operator in the x and y direction\n",
        "    sobel_x = cv2.Sobel(gray_image, cv2.CV_64F, 1, 0, ksize=3)  # Horizontal gradients\n",
        "    sobel_y = cv2.Sobel(gray_image, cv2.CV_64F, 0, 1, ksize=3)  # Vertical gradients\n",
        "\n",
        "    # Calculate the magnitude of the gradients\n",
        "    sobel_magnitude = cv2.magnitude(sobel_x, sobel_y)\n",
        "\n",
        "    # Normalize the result to the range [0, 255]\n",
        "    sobel_magnitude = np.uint8(np.absolute(sobel_magnitude))\n",
        "\n",
        "    return sobel_magnitude\n",
        "\n",
        "# Assuming 'images' contains image names and 'img_folder' is the path to the folder with images\n",
        "for image_name in images:\n",
        "    image_path = os.path.join(img_folder, image_name)\n",
        "    img = cv2.imread(image_path)  # Load the color image\n",
        "    if img is not None:\n",
        "        # Step 1: Remove noise using ggaussian filter\n",
        "        denoised_img = gaussian_noise_removal(img)\n",
        "\n",
        "        # Step 2: Apply Sobl edge detection on the denoised image\n",
        "        sobel_edges = sobel_edge_detection(denoised_img)\n",
        "\n",
        "        # Display the Sobel edge-detected image\n",
        "        cv2_imshow(sobel_edges)\n",
        "    else:\n",
        "        print(f\"Failed to load image: {image_path}\")\n"
      ],
      "metadata": {
        "colab": {
          "base_uri": "https://localhost:8080/",
          "height": 1000
        },
        "id": "rOgD6J1SOWwR",
        "outputId": "b56498dd-d2ed-4f56-e3b4-5cec043ab089"
      },
      "execution_count": null,
      "outputs": []
    },
    {
      "cell_type": "markdown",
      "source": [
        "# Creating negative images using formula = (255 - image)\n",
        "Insights on the comparison are in the report"
      ],
      "metadata": {
        "id": "PEkhAcyTW7gd"
      }
    },
    {
      "cell_type": "code",
      "source": [
        "# Function to create a negative image\n",
        "def negative_image(image):\n",
        "    # Invert the pixel values\n",
        "    negative = 255 - image\n",
        "    return negative\n",
        "\n",
        "# Assuming 'images' contains image names and 'img_folder' is the path to the folder with images\n",
        "for image_name in images:\n",
        "    image_path = os.path.join(img_folder, image_name)\n",
        "    img = cv2.imread(image_path)  # Load the color image\n",
        "    if img is not None:\n",
        "        # Step 1: Create negative image\n",
        "        negative_img = negative_image(img)\n",
        "\n",
        "        # Display the negative image\n",
        "        cv2_imshow(negative_img)\n",
        "    else:\n",
        "        print(f\"Failed to load image: {image_path}\")"
      ],
      "metadata": {
        "colab": {
          "base_uri": "https://localhost:8080/",
          "height": 1000
        },
        "id": "utv370xzRD5v",
        "outputId": "466ecb32-d7a0-4656-fa0a-7cece61e170c"
      },
      "execution_count": null,
      "outputs": []
    },
    {
      "cell_type": "markdown",
      "source": [
        "# BOx filter techniquee"
      ],
      "metadata": {
        "id": "DTutJgS1ZcnK"
      }
    },
    {
      "cell_type": "code",
      "source": [
        "# Box filetr\n",
        "def box_filter(image, kernel_size=3):\n",
        "    # Get the dimensions of the image\n",
        "    h, w = image.shape[:2]\n",
        "\n",
        "    # Initialize an output image with the same shape as the input image\n",
        "    filtered_image = np.zeros((h, w, 3), dtype=np.uint8)\n",
        "\n",
        "    # Pad the image to handle borders\n",
        "    pad_size = kernel_size // 2\n",
        "    padded_image = cv2.copyMakeBorder(image, pad_size, pad_size, pad_size, pad_size, cv2.BORDER_REFLECT)\n",
        "\n",
        "    # Perform convolution with the box filter\n",
        "    for i in range(h):\n",
        "        for j in range(w):\n",
        "            # Extract the kernel area\n",
        "            kernel_area = padded_image[i:i + kernel_size, j:j + kernel_size]\n",
        "            # Compute the mean of the kernel area\n",
        "            filtered_image[i, j] = np.mean(kernel_area, axis=(0, 1)).astype(np.uint8)\n",
        "\n",
        "    return filtered_image\n",
        "\n",
        "# Function to remove noise using a lighter Gaussian filter\n",
        "def gaussian_noise_removal(image, kernel_size=(3, 3), sigma=0.8):\n",
        "    denoised_image = cv2.GaussianBlur(image, kernel_size, sigma)\n",
        "    return denoised_image\n",
        "\n",
        "# Assuming 'images' contains image names and 'img_folder' is the path to the folder with images\n",
        "for image_name in images:\n",
        "    image_path = os.path.join(img_folder, image_name)\n",
        "    img = cv2.imread(image_path)  # Load the color image\n",
        "    if img is not None:\n",
        "        # Step 1: Apply Box Filter before noise removal\n",
        "        box_filtered_before = box_filter(img, kernel_size=3)\n",
        "\n",
        "        # Display the Box Filtered image before noise removal\n",
        "        cv2_imshow(box_filtered_before)\n",
        "\n",
        "        # Step 2: Remove noise using Gaussian filter\n",
        "        denoised_img = gaussian_noise_removal(img)\n",
        "\n",
        "        # Step 3: Apply Box Filter after noise removal\n",
        "        box_filtered_after = box_filter(denoised_img, kernel_size=3)\n",
        "\n",
        "        # Display the Box Filtered image after noise removal\n",
        "        cv2_imshow(box_filtered_after)\n",
        "    else:\n",
        "        print(f\"Failed to load image: {image_path}\")\n"
      ],
      "metadata": {
        "colab": {
          "base_uri": "https://localhost:8080/",
          "height": 1000
        },
        "id": "nz1oz-zvXGjs",
        "outputId": "7aa6bfeb-e331-4a91-9c50-271c35a43d2d"
      },
      "execution_count": null,
      "outputs": []
    },
    {
      "cell_type": "code",
      "source": [],
      "metadata": {
        "id": "nOXct3LgZits"
      },
      "execution_count": null,
      "outputs": []
    }
  ]
}